{
 "cells": [
  {
   "cell_type": "code",
   "execution_count": 7,
   "metadata": {},
   "outputs": [],
   "source": [
    "#example script demonstrating Small-Fry API usage\n",
    "import smallfry as sfry"
   ]
  },
  {
   "cell_type": "markdown",
   "metadata": {},
   "source": [
    "#NOTE -- space constraint: \n",
    "#We are going to use the standard bitrate, R = 1, for compression.\n",
    "#If you have more space for your embeddings, be sure to give yourself a looser memory constraint!\n",
    "#You may specify either as an approximate memory budget (in bytes) or as a bitrate (avg bits per entry in matrix)\n",
    "\n",
    "#NOTE -- output directory:\n",
    "#You may optionally specify an output directory using the param outdir=\"<myoutputdirectorypath>\".\n",
    "#Otherwise, Small-Fry's compression will be written to the same directory as the source embeddings."
   ]
  },
  {
   "cell_type": "code",
   "execution_count": 8,
   "metadata": {},
   "outputs": [],
   "source": [
    "#Inputs for the compressor\n",
    "source_path = \"glove.head.txt\" #100 lines out of the offical glove.6B embeddings\n",
    "prior_path = \"prior.npy\" #A prior for these 100 words in dict format saved as npy. Maps word => numeric.\n",
    "word_rep = \"trie\" #Let's use the marisa-trie representation for the word list -- it's more compact that a dict!\n",
    "\n"
   ]
  },
  {
   "cell_type": "code",
   "execution_count": 9,
   "metadata": {},
   "outputs": [
    {
     "name": "stdout",
     "output_type": "stream",
     "text": [
      "Saving Small-Fry representation to file...\n"
     ]
    },
    {
     "ename": "FileExistsError",
     "evalue": "[Errno 17] File exists: 'glove.head.txt.sfry'",
     "output_type": "error",
     "traceback": [
      "\u001b[0;31m---------------------------------------------------------------------------\u001b[0m",
      "\u001b[0;31mFileExistsError\u001b[0m                           Traceback (most recent call last)",
      "\u001b[0;32m<ipython-input-9-2e176af16744>\u001b[0m in \u001b[0;36m<module>\u001b[0;34m()\u001b[0m\n\u001b[1;32m      1\u001b[0m \u001b[0;31m#Make the API call\u001b[0m\u001b[0;34m\u001b[0m\u001b[0;34m\u001b[0m\u001b[0m\n\u001b[0;32m----> 2\u001b[0;31m \u001b[0mword2idx\u001b[0m\u001b[0;34m,\u001b[0m \u001b[0msfry_path\u001b[0m \u001b[0;34m=\u001b[0m \u001b[0msfry\u001b[0m\u001b[0;34m.\u001b[0m\u001b[0mcompress\u001b[0m\u001b[0;34m(\u001b[0m\u001b[0msource_path\u001b[0m\u001b[0;34m,\u001b[0m \u001b[0mprior_path\u001b[0m\u001b[0;34m,\u001b[0m \u001b[0mword_rep\u001b[0m\u001b[0;34m=\u001b[0m\u001b[0mword_rep\u001b[0m\u001b[0;34m)\u001b[0m\u001b[0;34m\u001b[0m\u001b[0m\n\u001b[0m\u001b[1;32m      3\u001b[0m \u001b[0;34m\u001b[0m\u001b[0m\n\u001b[1;32m      4\u001b[0m \u001b[0;31m#NOTE -- word representation:\u001b[0m\u001b[0;34m\u001b[0m\u001b[0;34m\u001b[0m\u001b[0m\n\u001b[1;32m      5\u001b[0m \u001b[0;31m#The user is responsible for keeping track of the word2idx. Setting the <write_word_rep> flag will\u001b[0m\u001b[0;34m\u001b[0m\u001b[0;34m\u001b[0m\u001b[0m\n",
      "\u001b[0;32m~/Research/SF/small-fry/smallfry/api.py\u001b[0m in \u001b[0;36mcompress\u001b[0;34m(sourcepath, priorpath, outdir, mem_budget, R, write_inflated, word_rep, write_word_rep)\u001b[0m\n\u001b[1;32m     87\u001b[0m         \u001b[0mnp\u001b[0m\u001b[0;34m.\u001b[0m\u001b[0msave\u001b[0m\u001b[0;34m(\u001b[0m\u001b[0minfmatpath\u001b[0m\u001b[0;34m,\u001b[0m \u001b[0minflated_mat\u001b[0m\u001b[0;34m)\u001b[0m\u001b[0;34m\u001b[0m\u001b[0m\n\u001b[1;32m     88\u001b[0m     \u001b[0mprint\u001b[0m\u001b[0;34m(\u001b[0m\u001b[0;34m\"Saving Small-Fry representation to file...\"\u001b[0m\u001b[0;34m)\u001b[0m\u001b[0;34m\u001b[0m\u001b[0m\n\u001b[0;32m---> 89\u001b[0;31m     \u001b[0msfry_path\u001b[0m \u001b[0;34m=\u001b[0m \u001b[0mbitwrite_submats\u001b[0m\u001b[0;34m(\u001b[0m\u001b[0mquant_submats\u001b[0m\u001b[0;34m,\u001b[0m \u001b[0mcodebks\u001b[0m\u001b[0;34m,\u001b[0m \u001b[0moutpath\u001b[0m\u001b[0;34m)\u001b[0m\u001b[0;34m\u001b[0m\u001b[0m\n\u001b[0m\u001b[1;32m     90\u001b[0m     \u001b[0mnp\u001b[0m\u001b[0;34m.\u001b[0m\u001b[0msave\u001b[0m\u001b[0;34m(\u001b[0m\u001b[0msfry_path\u001b[0m\u001b[0;34m+\u001b[0m\u001b[0;34m\"/codebks\"\u001b[0m\u001b[0;34m,\u001b[0m\u001b[0mcodebks\u001b[0m\u001b[0;34m)\u001b[0m\u001b[0;34m\u001b[0m\u001b[0m\n\u001b[1;32m     91\u001b[0m     \u001b[0mnp\u001b[0m\u001b[0;34m.\u001b[0m\u001b[0msave\u001b[0m\u001b[0;34m(\u001b[0m\u001b[0msfry_path\u001b[0m\u001b[0;34m+\u001b[0m\u001b[0;34m\"/metadata\"\u001b[0m\u001b[0;34m,\u001b[0m\u001b[0mallot_indices\u001b[0m\u001b[0;34m)\u001b[0m\u001b[0;34m\u001b[0m\u001b[0m\n",
      "\u001b[0;32m~/Research/SF/small-fry/smallfry/utils.py\u001b[0m in \u001b[0;36mbitwrite_submats\u001b[0;34m(quant_submats, codebks, path)\u001b[0m\n\u001b[1;32m    189\u001b[0m \u001b[0;34m\u001b[0m\u001b[0m\n\u001b[1;32m    190\u001b[0m \u001b[0;32mdef\u001b[0m \u001b[0mbitwrite_submats\u001b[0m\u001b[0;34m(\u001b[0m\u001b[0mquant_submats\u001b[0m\u001b[0;34m,\u001b[0m \u001b[0mcodebks\u001b[0m\u001b[0;34m,\u001b[0m \u001b[0mpath\u001b[0m\u001b[0;34m)\u001b[0m\u001b[0;34m:\u001b[0m\u001b[0;34m\u001b[0m\u001b[0m\n\u001b[0;32m--> 191\u001b[0;31m     \u001b[0msfry_path\u001b[0m \u001b[0;34m=\u001b[0m \u001b[0mpath\u001b[0m\u001b[0;34m+\u001b[0m\u001b[0;34m\".sfry\"\u001b[0m\u001b[0;34m\u001b[0m\u001b[0m\n\u001b[0m\u001b[1;32m    192\u001b[0m     \u001b[0mos\u001b[0m\u001b[0;34m.\u001b[0m\u001b[0mmkdir\u001b[0m\u001b[0;34m(\u001b[0m\u001b[0msfry_path\u001b[0m\u001b[0;34m)\u001b[0m\u001b[0;34m\u001b[0m\u001b[0m\n\u001b[1;32m    193\u001b[0m \u001b[0;34m\u001b[0m\u001b[0m\n",
      "\u001b[0;31mFileExistsError\u001b[0m: [Errno 17] File exists: 'glove.head.txt.sfry'"
     ]
    }
   ],
   "source": [
    "#Make the API call\n",
    "word2idx, sfry_path = sfry.compress(source_path, prior_path, word_rep=word_rep)\n",
    "\n",
    "#NOTE -- word representation:\n",
    "#The user is responsible for keeping track of the word2idx. Setting the <write_word_rep> flag will\n",
    "#automatically write the representation to the output directory.\n",
    "#If the flag is not set, the representation is still returned from the API call, and a text word list is written \n",
    "#to the output directory instead"
   ]
  },
  {
   "cell_type": "code",
   "execution_count": null,
   "metadata": {},
   "outputs": [],
   "source": [
    "sfry"
   ]
  },
  {
   "cell_type": "markdown",
   "metadata": {},
   "source": []
  },
  {
   "cell_type": "code",
   "execution_count": null,
   "metadata": {},
   "outputs": [],
   "source": [
    "#Query Small-Fry for your word!\n",
    "\n",
    "vector = sfry.query('them', word2idx, sfry_path) #returns a numpy vector\n",
    "\n",
    "print(vector)\n",
    "\n",
    "#You may also be interested in loading Small-Fry into memory to speed querying up\n",
    "\n",
    "my_smallfry = sfry.load(sfry_path, word2idx) #generates a wrapper object for memory-mapped Small-Fry\n",
    "\n",
    "my_smallfry.query*\n",
    "\n"
   ]
  }
 ],
 "metadata": {
  "kernelspec": {
   "display_name": "Python 3",
   "language": "python",
   "name": "python3"
  },
  "language_info": {
   "codemirror_mode": {
    "name": "ipython",
    "version": 3
   },
   "file_extension": ".py",
   "mimetype": "text/x-python",
   "name": "python",
   "nbconvert_exporter": "python",
   "pygments_lexer": "ipython3",
   "version": "3.6.4"
  }
 },
 "nbformat": 4,
 "nbformat_minor": 2
}
