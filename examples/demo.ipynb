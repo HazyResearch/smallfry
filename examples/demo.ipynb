{
 "cells": [
  {
   "cell_type": "code",
   "execution_count": 2,
   "metadata": {},
   "outputs": [],
   "source": [
    "#example script demonstrating Small-Fry API usage\n",
    "import smallfry as sfry"
   ]
  },
  {
   "cell_type": "code",
   "execution_count": null,
   "metadata": {},
   "outputs": [],
   "source": [
    "#Inputs for the compressor\n",
    "source_path = \"glove.head.txt\" #100 lines out of the offical glove.6B embeddings\n",
    "prior_path = \"prior.npy\" #A prior for these 100 words in dict format saved as npy. Maps word => numeric.\n",
    "word_rep = \"trie\" #Let's use the marisa-trie representation for the word list -- it's more compact that a dict!\n",
    "\n",
    "#NOTE -- space constraint: \n",
    "#We are going to use the standard bitrate, R = 1, for compression.\n",
    "#If you have more space for your embeddings, be sure to give yourself a looser memory constraint!\n",
    "#You may specify either as an approximate memory budget (in bytes) or as a bitrate (avg bits per entry in matrix)\n",
    "\n",
    "#NOTE -- output directory:\n",
    "#You may optionally specify an output directory using the param outdir=\"<myoutputdirectorypath>\".\n",
    "#Otherwise, Small-Fry's compression will be written to the same directory as the source embeddings."
   ]
  },
  {
   "cell_type": "code",
   "execution_count": null,
   "metadata": {},
   "outputs": [],
   "source": [
    "#Make the API call\n",
    "word2idx, sfry_path = sfry.compress(source_path, prior_path, word_rep=word_rep)\n",
    "\n",
    "#NOTE -- word representation:\n",
    "#The user is responsible for keeping track of the word2idx. Setting the <write_word_rep> flag will\n",
    "#automatically write the representation to the output directory.\n",
    "#If the flag is not set, the representation is still returned from the API call, and a text word list is written \n",
    "#to the output directory instead"
   ]
  },
  {
   "cell_type": "code",
   "execution_count": null,
   "metadata": {},
   "outputs": [],
   "source": [
    "#Query Small-Fry for your word!\n",
    "\n",
    "vector = sfry.query('them', word2idx, sfry_path) #returns a numpy vector\n",
    "\n",
    "print(vector)\n",
    "\n",
    "#You may also be interested in loading Small-Fry into memory to speed querying up\n",
    "\n",
    "my_smallfry = sfry.load(sfry_path, word2idx) #generates a wrapper object for memory-mapped Small-Fry\n",
    "\n",
    "my_smallfry.query*\n",
    "\n"
   ]
  }
 ],
 "metadata": {
  "kernelspec": {
   "display_name": "Python 3",
   "language": "python",
   "name": "python3"
  },
  "language_info": {
   "codemirror_mode": {
    "name": "ipython",
    "version": 3
   },
   "file_extension": ".py",
   "mimetype": "text/x-python",
   "name": "python",
   "nbconvert_exporter": "python",
   "pygments_lexer": "ipython3",
   "version": "3.6.4"
  }
 },
 "nbformat": 4,
 "nbformat_minor": 2
}
