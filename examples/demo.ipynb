{
 "cells": [
  {
   "cell_type": "markdown",
   "metadata": {},
   "source": [
    "Welcome! This is a simple demo to teach how to use Small-Fry. \n",
    "\n",
    "Although Small-Fry can be used as a command line utility, it is recommended to use Small-Fry as an API. First, import the library."
   ]
  },
  {
   "cell_type": "code",
   "execution_count": null,
   "metadata": {},
   "outputs": [],
   "source": [
    "import smallfry as sfry"
   ]
  },
  {
   "cell_type": "markdown",
   "metadata": {},
   "source": [
    "Space constraints:\n",
    "* We are going to use the default bitrate, R = 1, for compression.\n",
    "* If you have more space for your embeddings, be sure to give yourself a looser memory constraint!\n",
    "* You may specify either as an approximate memory budget (in bytes) or as a bitrate (avg bits per entry in embeddings matrix)\n",
    "\n",
    "Output directory:\n",
    "* You may optionally specify an output directory using the param outdir. \n",
    "* Otherwise, Small-Fry will write to the same directory containing the source embeddings.\n",
    "\n",
    "We proceed to define inputs for the compressor."
   ]
  },
  {
   "cell_type": "code",
   "execution_count": null,
   "metadata": {},
   "outputs": [],
   "source": [
    "source_path = \"glove.head.txt\" #100 lines out of the offical glove.6B embeddings\n",
    "prior_path = \"prior.npy\" #A prior for these 100 words in dict format saved as npy. Maps word => occurence counts\n",
    "word_rep = \"trie\" #Let's use the marisa-trie representation for the word list -- it's more compact that a dict!"
   ]
  },
  {
   "cell_type": "code",
   "execution_count": null,
   "metadata": {},
   "outputs": [],
   "source": [
    "#Make the API call\n",
    "word2idx, sfry_path = sfry.compress(source_path, prior_path, word_rep=word_rep)\n",
    "\n",
    "#NOTE -- word representation:\n",
    "#The user is responsible for keeping track of the word2idx. Setting the <write_word_rep> flag will\n",
    "#automatically write the representation to the output directory.\n",
    "#If the flag is not set, the representation is still returned from the API call, and a text word list is written \n",
    "#to the output directory instead"
   ]
  },
  {
   "cell_type": "code",
   "execution_count": null,
   "metadata": {},
   "outputs": [],
   "source": [
    "sfry"
   ]
  },
  {
   "cell_type": "markdown",
   "metadata": {},
   "source": []
  },
  {
   "cell_type": "code",
   "execution_count": null,
   "metadata": {},
   "outputs": [],
   "source": [
    "#Query Small-Fry for your word!\n",
    "\n",
    "vector = sfry.query('them', word2idx, sfry_path) #returns a numpy vector\n",
    "\n",
    "print(vector)\n",
    "\n",
    "#You may also be interested in loading Small-Fry into memory to speed querying up\n",
    "\n",
    "my_smallfry = sfry.load(sfry_path, word2idx) #generates a wrapper object for memory-mapped Small-Fry\n",
    "\n",
    "my_smallfry.query*\n",
    "\n"
   ]
  }
 ],
 "metadata": {
  "kernelspec": {
   "display_name": "Python 3",
   "language": "python",
   "name": "python3"
  },
  "language_info": {
   "codemirror_mode": {
    "name": "ipython",
    "version": 3
   },
   "file_extension": ".py",
   "mimetype": "text/x-python",
   "name": "python",
   "nbconvert_exporter": "python",
   "pygments_lexer": "ipython3",
   "version": "3.6.4"
  }
 },
 "nbformat": 4,
 "nbformat_minor": 2
}
