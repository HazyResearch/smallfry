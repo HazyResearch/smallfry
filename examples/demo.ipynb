{
 "cells": [
  {
   "cell_type": "markdown",
   "metadata": {},
   "source": [
    "Welcome! This is a simple notebook to demo Small-Fry usage. If you have any questions, please feel free to contact [tginart](https://github.com/tginart).\n",
    "\n",
    "For the purposes of this demo, we will be compressing 1,000 rows (words) from the offical [Wiki Gigawords GloVe embeddings]. Our demo embeddings are light-weight enough to keep within the code repository.  \n",
    "\n",
    "Although Small-Fry can be used as a command line utility, it is recommended to use Small-Fry as an API. \n",
    "\n",
    "First, import the library:"
   ]
  },
  {
   "cell_type": "code",
   "execution_count": null,
   "metadata": {},
   "outputs": [],
   "source": [
    "import smallfry as sfry"
   ]
  },
  {
   "cell_type": "markdown",
   "metadata": {},
   "source": [
    "Space constraints:\n",
    "* We are going to use the default bitrate, R = 1, for compression.\n",
    "* If you have more space for your embeddings, be sure to give yourself a looser memory constraint!\n",
    "* You may specify either as an approximate memory budget (in bytes) or as a bitrate (avg bits per entry in embeddings matrix)\n",
    "* For most downstream applications, in order to incur <1% loss in extrinsic performance, the bitrate should be somewhere in (0.1,3). See TODO:paperlink for more details.\n",
    "\n",
    "Output directory:\n",
    "* You may optionally specify an output directory using the param outdir. \n",
    "* Otherwise, Small-Fry will write to the same directory containing the source embeddings.\n",
    "\n",
    "Prior:\n",
    "* The prior should be specified as word frequency counts over a corpus. Small-Fry automatically normalizes the frequency counts into a probability vector. \n",
    "* The prior should be a Python dictionary mapping word to float, saved in the `.npy` format. See [`numpy.save`](https://docs.scipy.org/doc/numpy-1.14.0/re)\n",
    "* As discussed in TODO:paperlink, Small-Fry is robust to noisy priors. If you do not have a prior of your own, and your application will be processing common English, please use [this prior], collected from the wiki16 corpus [cite].\n",
    "\n",
    "We proceed to define inputs for the compressor."
   ]
  },
  {
   "cell_type": "code",
   "execution_count": null,
   "metadata": {},
   "outputs": [],
   "source": [
    "source_path = \"glove.head.txt\" #1000 lines out of the offical glove.6B.50d embeddings\n",
    "prior_path = \"prior.npy\" #A prior for these 1000 words in dict format saved as npy.\n",
    "word_rep = \"trie\" #Let's use the marisa-trie representation for the word list. It's more compact that a dict!"
   ]
  },
  {
   "cell_type": "markdown",
   "metadata": {},
   "source": [
    "We are now ready to make the API call:"
   ]
  },
  {
   "cell_type": "code",
   "execution_count": null,
   "metadata": {},
   "outputs": [],
   "source": [
    "word2idx, sfry_path = sfry.compress(source_path, prior_path, word_rep=word_rep)"
   ]
  },
  {
   "cell_type": "markdown",
   "metadata": {},
   "source": [
    "Your Small-Fry embeddings have been written to file! I bet you they're pretty small! Let's check the filesizes before and after!\n",
    "\n",
    "First, let's see how big the original embeddings are:"
   ]
  },
  {
   "cell_type": "code",
   "execution_count": null,
   "metadata": {},
   "outputs": [],
   "source": [
    "import os\n",
    "os.popen(\"ls -lha glove.head.txt\").read()"
   ]
  },
  {
   "cell_type": "markdown",
   "metadata": {},
   "source": [
    "And now, let's check out the size of the Small-Fry embeddings:"
   ]
  },
  {
   "cell_type": "code",
   "execution_count": null,
   "metadata": {},
   "outputs": [],
   "source": [
    "os.popen(\"du -h glove.head.txt.sfry --apparent-size\").read()"
   ]
  },
  {
   "cell_type": "markdown",
   "metadata": {},
   "source": [
    "Wow! That's small!\n",
    "\n",
    "Now, let's see how we can efficiently query for word vectors without inflating the entire `.sfry` representation."
   ]
  },
  {
   "cell_type": "markdown",
   "metadata": {},
   "source": [
    "Like with other embeddings, the user is responsible for keeping track of the word representation returned by the Small-Fry compressor, in `word2idx`. Optionally, the word representation can be automatically saved by the `compress` call, using the `write-word-rep` flag.\n",
    "\n",
    "The path to Small-Fry's compressed embeddings is returned in `sfry_path`. Both of these returns are used in Small-Fry's `query` API call.\n",
    "\n",
    "We proceed to define the inputs for the querying:"
   ]
  },
  {
   "cell_type": "code",
   "execution_count": null,
   "metadata": {},
   "outputs": [],
   "source": [
    "word = 'them' #The query word \n",
    "word_rep = word2idx #This can be a path to a saved word rep, or the Python object itself -- either way works.\n",
    "query_path = sfry_path #This must be a path to a saved Small-Fry directory"
   ]
  },
  {
   "cell_type": "markdown",
   "metadata": {},
   "source": [
    "We proceed to call the query routine:"
   ]
  },
  {
   "cell_type": "code",
   "execution_count": null,
   "metadata": {},
   "outputs": [],
   "source": [
    "word_vector = sfry.query(word, word_rep, query_path) #returns a numpy vector\n",
    "\n",
    "print(word_vector)"
   ]
  },
  {
   "cell_type": "markdown",
   "metadata": {},
   "source": [
    "But reading from disk can be slow! That's why Small-Fry can create a memory-mapped representation using `numpy.memmap`.\n",
    "\n",
    "Use `sfry.load` to generate a Python wrapper object as follows: "
   ]
  },
  {
   "cell_type": "code",
   "execution_count": null,
   "metadata": {},
   "outputs": [],
   "source": [
    "my_smallfry = sfry.load(sfry_path, word2idx) #generates a wrapper object for memory-mapped Small-Fry"
   ]
  },
  {
   "cell_type": "markdown",
   "metadata": {},
   "source": [
    "And to query with your Small-Fry wrapper, just try:"
   ]
  },
  {
   "cell_type": "code",
   "execution_count": null,
   "metadata": {},
   "outputs": [],
   "source": [
    "print(my_smallfry.query(word))"
   ]
  },
  {
   "cell_type": "markdown",
   "metadata": {},
   "source": [
    "It is as easy as that! You are now ready to use Small-Fry embeddings for your favorite NLP apps!"
   ]
  },
  {
   "cell_type": "code",
   "execution_count": null,
   "metadata": {},
   "outputs": [],
   "source": []
  },
  {
   "cell_type": "code",
   "execution_count": null,
   "metadata": {},
   "outputs": [],
   "source": []
  }
 ],
 "metadata": {
  "kernelspec": {
   "display_name": "Python 3",
   "language": "python",
   "name": "python3"
  },
  "language_info": {
   "codemirror_mode": {
    "name": "ipython",
    "version": 3
   },
   "file_extension": ".py",
   "mimetype": "text/x-python",
   "name": "python",
   "nbconvert_exporter": "python",
   "pygments_lexer": "ipython3",
   "version": "3.6.4"
  }
 },
 "nbformat": 4,
 "nbformat_minor": 2
}
